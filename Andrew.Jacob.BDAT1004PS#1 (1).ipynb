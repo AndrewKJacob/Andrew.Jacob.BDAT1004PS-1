{
 "cells": [
  {
   "cell_type": "markdown",
   "metadata": {},
   "source": [
    "# Question 1.\n",
    "\n",
    "5: **Number (integer)\n",
    "\n",
    "5.0: **Number (floating point)\n",
    "\n",
    "5 > 1: **Boolean Expression\n",
    "\n",
    "'5': **String \n",
    "\n",
    "5 * 2: ****Algebraic expression\n",
    "\n",
    "'5' * 2 : **String\n",
    "\n",
    "'5' + '2' **String\n",
    "\n",
    "5 / 2 : **Algebraic expression\n",
    "\n",
    "5 // 2 : **Algebraic expression\n",
    "\n",
    "[5, 2, 1] : **List\n",
    "\n",
    "5 in [1, 4, 6] : **Not an item of the list\n",
    "\n",
    "math.pi : **Number\n"
   ]
  },
  {
   "cell_type": "markdown",
   "metadata": {},
   "source": [
    "# Question 2\n",
    "Write (and evaluate) Python expressions that answer these questions:\n",
    "a. How many letters are there in 'Supercalifragilisticexpialidocious'?\n",
    "b. Does 'Supercalifragilisticexpialidocious' contain 'ice' as a substring? \n",
    " BDAT 1004 – Data Programming\n",
    "Page 2 of 6\n",
    "F2020\n",
    "BDAT 1004 Computer Studies\n",
    "c. Which of the following words is the longest:\n",
    "Supercalifragilisticexpialidocious, Honorificabilitudinitatibus, or\n",
    "Bababadalgharaghtakamminarronnkonn?\n",
    "d. Which composer comes first in the dictionary: 'Berlioz', 'Borodin', 'Brian',\n",
    "'Bartok', 'Bellini', 'Buxtehude', 'Bernstein'. Which one comes last?\n"
   ]
  },
  {
   "cell_type": "code",
   "execution_count": 7,
   "metadata": {},
   "outputs": [
    {
     "data": {
      "text/plain": [
       "34"
      ]
     },
     "execution_count": 7,
     "metadata": {},
     "output_type": "execute_result"
    }
   ],
   "source": [
    "#a\n",
    "a='Supercalifragilisticexpialidocious'\n",
    "len(a)\n",
    "\n"
   ]
  },
  {
   "cell_type": "code",
   "execution_count": 6,
   "metadata": {},
   "outputs": [
    {
     "data": {
      "text/plain": [
       "True"
      ]
     },
     "execution_count": 6,
     "metadata": {},
     "output_type": "execute_result"
    }
   ],
   "source": [
    "#b\n",
    "'ice' in a"
   ]
  },
  {
   "cell_type": "code",
   "execution_count": 8,
   "metadata": {},
   "outputs": [
    {
     "data": {
      "text/plain": [
       "'Supercalifragilisticexpialidocious'"
      ]
     },
     "execution_count": 8,
     "metadata": {},
     "output_type": "execute_result"
    }
   ],
   "source": [
    "#c\n",
    "b='Honorificabilitudinitatibus'\n",
    "c='Bababadalgharaghtakamminarronnkonn'\n",
    "al= len(a)\n",
    "bl= len(b)\n",
    "cl= len(c)\n",
    "max(a,b,c)"
   ]
  },
  {
   "cell_type": "code",
   "execution_count": 19,
   "metadata": {},
   "outputs": [
    {
     "name": "stdout",
     "output_type": "stream",
     "text": [
      "Bellini comes first in the dictionary and Berlioz comes last.\n"
     ]
    }
   ],
   "source": [
    "#d\n",
    "d=['Berlioz', 'Borodin', 'Brian', 'Bartok', 'Bellini', 'Buxtehude', 'Bernstein']\n",
    "e=sorted(d)  #https://www.kite.com/python/answers/how-to-sort-a-list-alphabetically-in-python#:~:text=Use%20sorted()%20to%20sort,list%20to%20sort%20it%20alphabetically.&text=sorted(iterable%2C%20key%3DNone,list%2C%20set%20key%20to%20str.\n",
    "print(e[1] + ' comes first in the dictionary and ' + e[2] + ' comes last.')"
   ]
  },
  {
   "cell_type": "markdown",
   "metadata": {},
   "source": [
    "# Question 3\n",
    "a. Write a function inside(x,y,x1,y1,x2,y2) that returns True or False\n",
    "depending on whether the point (x,y) lies in the rectangle with lower left\n",
    "corner (x1,y1) and upper right corner (x2,y2).\n",
    "\n",
    "b. Use function inside() from part a. to write an expression that tests whether\n",
    "the point (1,1) lies in both of the following rectangles: one with lower left\n",
    "corner (0.3, 0.5) and upper right corner (1.1, 0.7) and the other with lower\n",
    "left corner (0.5, 0.2) and upper right corner (1.1, 2)\n"
   ]
  },
  {
   "cell_type": "code",
   "execution_count": 28,
   "metadata": {},
   "outputs": [
    {
     "data": {
      "text/plain": [
       "'True'"
      ]
     },
     "execution_count": 28,
     "metadata": {},
     "output_type": "execute_result"
    }
   ],
   "source": [
    "#a\n",
    "def inside(x,y,x1,y1,x2,y2):\n",
    "    if x>x1 and x<x2 and y>y1 and y<y2:\n",
    "        res= 'True'\n",
    "    else:\n",
    "        res='False'\n",
    "    return res\n",
    "\n",
    "inside(1,1,0,0,2,3)\n",
    "\n",
    "    "
   ]
  },
  {
   "cell_type": "code",
   "execution_count": 37,
   "metadata": {},
   "outputs": [
    {
     "data": {
      "text/plain": [
       "'False'"
      ]
     },
     "execution_count": 37,
     "metadata": {},
     "output_type": "execute_result"
    }
   ],
   "source": [
    "#b. \n",
    "inside(1,1,0.3,0.5,1.1,0.7)"
   ]
  },
  {
   "cell_type": "code",
   "execution_count": 38,
   "metadata": {},
   "outputs": [
    {
     "data": {
      "text/plain": [
       "'True'"
      ]
     },
     "execution_count": 38,
     "metadata": {},
     "output_type": "execute_result"
    }
   ],
   "source": [
    "inside(1,1,0.5,0.2,1.1,2)"
   ]
  },
  {
   "cell_type": "markdown",
   "metadata": {},
   "source": [
    "# Question 4\n",
    " You can turn a word into pig-Latin using the following two rules (simplified):\n",
    "• If the word starts with a consonant, move that letter to the end and append\n",
    "'ay'. For example, 'happy' becomes 'appyhay' and 'pencil' becomes 'encilpay'.\n",
    "• If the word starts with a vowel, simply append 'way' to the end of the word.\n",
    "For example, 'enter' becomes 'enterway' and 'other' becomes 'otherway' . For\n",
    "our purposes, there are 5 vowels: a, e, i, o, u (so we count y as a consonant).\n",
    "Write a function pig() that takes a word (i.e., a string) as input and returns its pigLatin form. Your function should still work if the input word contains upper case\n",
    "characters. Your output should always be lower case however. "
   ]
  },
  {
   "cell_type": "code",
   "execution_count": 69,
   "metadata": {},
   "outputs": [
    {
     "name": "stdout",
     "output_type": "stream",
     "text": [
      "Enter input here:enter\n",
      "enteray\n"
     ]
    }
   ],
   "source": [
    "a=input(\"Enter input here:\")\n",
    "if a[0]== 'a' or 'e' or 'i' or 'o' or 'u':\n",
    "    f=(a[0:] + 'ay')\n",
    "    print (f.lower())\n",
    "else:\n",
    "    f=(a[1:] + 'ay')\n",
    "    print (f.lower())"
   ]
  },
  {
   "cell_type": "markdown",
   "metadata": {},
   "source": [
    "# Question 6\n",
    "Write a function curconv() that takes as input:\n",
    "1. a currency represented using a string (e.g., 'JPY' for the Japanese Yen or\n",
    "'EUR' for the Euro)\n",
    "2. an amount\n",
    "and then converts and returns the amount in US dollars."
   ]
  },
  {
   "cell_type": "code",
   "execution_count": null,
   "metadata": {},
   "outputs": [],
   "source": [
    "b= {'AUD':1.0345157,'CHF':1.0237414,'CNY':0.1550176,'DKK':0.1651442,'EUR':1.2296544,'GBP':1.5550989,'HKD':0.1270207,'INR':0.0177643,'JPY':0.01241401,'MXN':0.0751848,'MYR':0.3145411,'NOK':0.1677063,'NZD':0.8003591,'PHP':0.0233234,'SEK':0.148269,'SGD':0.788871,'THB':0.0313789}\n",
    "def curconv (c,e):\n",
    "    if c in b:\n",
    "        res=e*b[c]\n",
    "    return res\n",
    "curconv('GBP',2345)"
   ]
  },
  {
   "cell_type": "markdown",
   "metadata": {},
   "source": [
    " # Question 7.\n",
    "Each of the following will cause an exception (an error). Identify what type of\n",
    "exception each will cause.\n",
    "\n",
    "i) Trying to add incompatible variables, as in\n",
    "adding 6 + ‘a’ **Type Error**\n",
    "\n",
    "ii) Referring to the 12th item of a list that has only 10\n",
    "items **Index Error**\n",
    "\n",
    "iii) Using a value that is out of range for a function’s\n",
    "input, such as calling math.sqrt(-1.0) **Value Error**\n",
    "\n",
    "iv) Using an undeclared variable, such as print(x)\n",
    "v) when x has not been defined **Name Error**\n",
    "\n",
    "Trying to open a file that does not exist, such as\n",
    "mistyping the file name or looking in the wrong\n",
    "directory. **FileNotFoundError**"
   ]
  },
  {
   "cell_type": "markdown",
   "metadata": {},
   "source": [
    " # Question 8\n",
    "Encryption is the process of hiding the meaning of a text by substituting letters in the\n",
    "message with other letters, according to some system. If the process is successful, no\n",
    "one but the intended recipient can understand the encrypted message. Cryptanalysis\n",
    "refers to attempts to undo the encryption, even if some details of the encryption are\n",
    "unknown (for example, if an encrypted message has been intercepted). The first step\n",
    "of cryptanalysis is often to build up a table of letter frequencies in the encrypted text.\n",
    "Assume that the string letters is already defined as\n",
    "'abcdefghijklmnopqrstuvwxyz'. Write a function called frequencies()\n",
    "that takes a string as its only parameter, and returns a list of integers, showing the\n",
    "number of times each character appears in the text. Your function may ignore any\n",
    "characters that are not in letters."
   ]
  },
  {
   "cell_type": "code",
   "execution_count": 60,
   "metadata": {},
   "outputs": [
    {
     "name": "stdout",
     "output_type": "stream",
     "text": [
      "[1, 0, 0, 0, 1, 0, 0, 0, 0, 0, 0, 1, 0, 0, 0, 2, 0, 0, 1, 0, 0, 0, 0, 0, 0, 0]\n"
     ]
    }
   ],
   "source": [
    "letters='abcdefghijklmnopqrstuvwxyz'\n",
    "p=[]\n",
    "q=[]\n",
    "for char in letters:\n",
    "        q.append(char)\n",
    "def frequencies(sentence):\n",
    "    for i in range(0,26): \n",
    "        p.append(sentence.count(q[i]))\n",
    "        \n",
    "frequencies('apples')\n",
    "print(p)\n"
   ]
  },
  {
   "cell_type": "markdown",
   "metadata": {},
   "source": [
    "# Question 9\n",
    "The Sieve of Erastophenes is an algorithm -- known to ancient Greeks -- that finds\n",
    "all prime numbers up to a given number n. It does this by first creating a list L from\n",
    "2 to n and an (initially empty) list primeL. The algorithm then takes the first number\n",
    "in list L (2) and appends it to list primeL, and then removes 2 and all its multiples\n",
    "(4,6,8,10,12, ...) from L. The algorithm then takes the new first number in L (3) and\n",
    "appends it to list primeL, and then removes from L 3 and all its remaining multiples\n",
    "(9,15,21,...). So, in every iteration, the first number of list L is appended to list\n",
    "primeL and then it and its multiples are removed from list L. The iterations stop\n",
    "when list L becomes empty. Write a function sieve() that takes as input a positive\n",
    "integer n, implements the above algorithm, and returns a list of all prime numbers up\n",
    "to n."
   ]
  },
  {
   "cell_type": "code",
   "execution_count": 51,
   "metadata": {},
   "outputs": [
    {
     "data": {
      "text/plain": [
       "[3, 7, 11, 15, 19, 25, 29, 37, 41, 47, 53, 61, 67, 71, 79, 83, 89, 97]"
      ]
     },
     "execution_count": 51,
     "metadata": {},
     "output_type": "execute_result"
    }
   ],
   "source": [
    "def sieve(n):\n",
    "    l=list(range(2,n)) #https://stackoverflow.com/questions/11480042/python-3-turn-range-to-a-list\n",
    "    pl=[]\n",
    "   \n",
    "    while l!=[]:\n",
    "        for j in l:\n",
    "            if j%l[0]==0 or j%2==0:\n",
    "                l.remove(j)\n",
    "        pl.append(l[0])\n",
    "        l.remove(l[0])\n",
    "    return pl\n",
    "\n",
    "sieve(100)"
   ]
  },
  {
   "cell_type": "markdown",
   "metadata": {},
   "source": [
    "# Question 10\n",
    "Implement function triangleArea(a,b,c) that takes as input the lengths of the 3\n",
    "sides of a triangle and returns the area of the triangle. By Heron's formula, the area\n",
    "of a triangle with side lengths a, b, and c is\n",
    "s(s - a)(s -b)(s -c)\n",
    ", where\n",
    "s = (a+b+c)/2.\n",
    ">>> triangleArea(2,2,2)\n",
    "1.7320508075688772"
   ]
  },
  {
   "cell_type": "code",
   "execution_count": 129,
   "metadata": {},
   "outputs": [
    {
     "data": {
      "text/plain": [
       "1.7320508075688772"
      ]
     },
     "execution_count": 129,
     "metadata": {},
     "output_type": "execute_result"
    }
   ],
   "source": [
    "import math\n",
    "def triangleArea(a,b,c):\n",
    "    s=(a+b+c)/2\n",
    "    res=math.sqrt(s*(s - a)*(s -b)*(s -c))\n",
    "    return res\n",
    "triangleArea(2,2,2)"
   ]
  }
 ],
 "metadata": {
  "kernelspec": {
   "display_name": "Python 3",
   "language": "python",
   "name": "python3"
  },
  "language_info": {
   "codemirror_mode": {
    "name": "ipython",
    "version": 3
   },
   "file_extension": ".py",
   "mimetype": "text/x-python",
   "name": "python",
   "nbconvert_exporter": "python",
   "pygments_lexer": "ipython3",
   "version": "3.8.3"
  }
 },
 "nbformat": 4,
 "nbformat_minor": 4
}
